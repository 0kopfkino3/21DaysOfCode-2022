{
 "cells": [
  {
   "cell_type": "markdown",
   "id": "55e9c168",
   "metadata": {},
   "source": [
    "1. Dislay a list\n",
    "2. Ask the User for an Index Position\n",
    "3. Ask the User for a string to replace that index position\n",
    "4. replace the list with the user input string\n",
    "5. Ask the User if they want to keep playing"
   ]
  },
  {
   "cell_type": "code",
   "execution_count": 1,
   "id": "817e2642",
   "metadata": {},
   "outputs": [],
   "source": [
    "game_list = [0,1,2]"
   ]
  },
  {
   "cell_type": "code",
   "execution_count": 17,
   "id": "0e2932b3",
   "metadata": {},
   "outputs": [],
   "source": [
    "def display_game(game_list):\n",
    "    print(\"Here is the current list\")\n",
    "    print(game_list)"
   ]
  },
  {
   "cell_type": "code",
   "execution_count": 6,
   "id": "77aa414c",
   "metadata": {
    "scrolled": true
   },
   "outputs": [
    {
     "name": "stdout",
     "output_type": "stream",
     "text": [
      "0\n",
      "1\n",
      "2\n"
     ]
    }
   ],
   "source": [
    "for i in range(0,3):\n",
    "    print(i)"
   ]
  },
  {
   "cell_type": "markdown",
   "id": "ed1163e1",
   "metadata": {},
   "source": [
    "def user_index_choice():\n",
    "    range_check = False\n",
    "    digit_check = 'Wrong'\n",
    "    acceptable_pos = [0,1,2]\n",
    "    \n",
    "    while range_check == False or digit_check.isdigit() == False:\n",
    "        choice = input(\"Enter the index position you want to replace:\")\n",
    "        if choice.isdigit() == True:\n",
    "            if int(choice) in acceptable_pos:\n",
    "                range_check = True\n",
    "                digit_check = '1'\n",
    "            else: \n",
    "                print(\"Oops! That's not in Range.\")\n",
    "        else:\n",
    "            print(\"Oops! That's not a digit\")\n",
    "    return int(choice)\n"
   ]
  },
  {
   "cell_type": "code",
   "execution_count": 2,
   "id": "0eee0c53",
   "metadata": {},
   "outputs": [],
   "source": [
    "def user_index_choice():\n",
    "    choice = 'Wrong'\n",
    "    while choice not in ['0','1','2']:\n",
    "        choice = input(\"Enter the position you want to replace (0,1,2): \")\n",
    "        \n",
    "        if choice not in ['0','1','2']:\n",
    "            print(\"Please enter again. Your value is not in range\")\n",
    "        else: \n",
    "            return int(choice)"
   ]
  },
  {
   "cell_type": "code",
   "execution_count": 3,
   "id": "818418e8",
   "metadata": {
    "scrolled": true
   },
   "outputs": [
    {
     "name": "stdout",
     "output_type": "stream",
     "text": [
      "Enter the position you want to replace (0,1,2): two\n",
      "Please enter again. Your valuse is not in range\n",
      "Enter the position you want to replace (0,1,2): 56\n",
      "Please enter again. Your valuse is not in range\n",
      "Enter the position you want to replace (0,1,2): 1\n"
     ]
    },
    {
     "data": {
      "text/plain": [
       "1"
      ]
     },
     "execution_count": 3,
     "metadata": {},
     "output_type": "execute_result"
    }
   ],
   "source": [
    "user_index_choice()"
   ]
  },
  {
   "cell_type": "code",
   "execution_count": 4,
   "id": "7c81eb6d",
   "metadata": {},
   "outputs": [],
   "source": [
    "def user_string(game_list, index):\n",
    "    string = input(\"Enter the string you want to replace the position with: \")\n",
    "    game_list[index]= string\n",
    "    return game_list"
   ]
  },
  {
   "cell_type": "code",
   "execution_count": 10,
   "id": "37f4db1f",
   "metadata": {},
   "outputs": [],
   "source": [
    "def gameon_choice():\n",
    "    game_on = 'Wrong'\n",
    "    while game_on not in ['Y','N']:\n",
    "        game_on = input(\"Do you want to continue (Y or N): \")\n",
    "        \n",
    "        if game_on not in ['Y','N']:\n",
    "            print(\"Sorry! I didn't understand.Input Y or N\")\n",
    "        else: \n",
    "            pass\n",
    "    if game_on == 'Y':\n",
    "        return True\n",
    "    else:\n",
    "        return False"
   ]
  },
  {
   "cell_type": "markdown",
   "id": "2f5ab551",
   "metadata": {},
   "source": [
    "# Game Logic\n"
   ]
  },
  {
   "cell_type": "code",
   "execution_count": 11,
   "id": "970dcd61",
   "metadata": {},
   "outputs": [
    {
     "data": {
      "text/plain": [
       "[0, 1, 2]"
      ]
     },
     "metadata": {},
     "output_type": "display_data"
    },
    {
     "name": "stdout",
     "output_type": "stream",
     "text": [
      "Enter the position you want to replace (0,1,2): 0\n",
      "Enter the string you want to replace the position with: Track\n"
     ]
    },
    {
     "data": {
      "text/plain": [
       "['Track', 1, 2]"
      ]
     },
     "metadata": {},
     "output_type": "display_data"
    },
    {
     "name": "stdout",
     "output_type": "stream",
     "text": [
      "Do you want to continue (Y or N): Y\n"
     ]
    },
    {
     "data": {
      "text/plain": [
       "['Track', 1, 2]"
      ]
     },
     "metadata": {},
     "output_type": "display_data"
    },
    {
     "name": "stdout",
     "output_type": "stream",
     "text": [
      "Enter the position you want to replace (0,1,2): 2\n",
      "Enter the string you want to replace the position with: Love\n"
     ]
    },
    {
     "data": {
      "text/plain": [
       "['Track', 1, 'Love']"
      ]
     },
     "metadata": {},
     "output_type": "display_data"
    },
    {
     "name": "stdout",
     "output_type": "stream",
     "text": [
      "Do you want to continue (Y or N): 1\n",
      "Sorry! I didn't understand.Input Y or N\n",
      "Do you want to continue (Y or N): Garima\n",
      "Sorry! I didn't understand.Input Y or N\n",
      "Do you want to continue (Y or N): N\n"
     ]
    }
   ],
   "source": [
    "game_on = True\n",
    "game_list = [0,1,2]\n",
    "\n",
    "while game_on:\n",
    "    display(game_list)\n",
    "    index = user_index_choice()\n",
    "    game_list = user_string(game_list, index)\n",
    "    display(game_list)\n",
    "    game_on = gameon_choice()\n",
    "\n",
    "\n"
   ]
  },
  {
   "cell_type": "code",
   "execution_count": null,
   "id": "c2403c7e",
   "metadata": {},
   "outputs": [],
   "source": []
  }
 ],
 "metadata": {
  "kernelspec": {
   "display_name": "Python 3 (ipykernel)",
   "language": "python",
   "name": "python3"
  },
  "language_info": {
   "codemirror_mode": {
    "name": "ipython",
    "version": 3
   },
   "file_extension": ".py",
   "mimetype": "text/x-python",
   "name": "python",
   "nbconvert_exporter": "python",
   "pygments_lexer": "ipython3",
   "version": "3.9.7"
  }
 },
 "nbformat": 4,
 "nbformat_minor": 5
}
